{
  "nbformat": 4,
  "nbformat_minor": 0,
  "metadata": {
    "colab": {
      "name": "MNIST - (0-9) - using CNN.ipynb",
      "provenance": []
    },
    "kernelspec": {
      "name": "python3",
      "display_name": "Python 3"
    }
  },
  "cells": [
    {
      "cell_type": "code",
      "metadata": {
        "id": "LhxTFenINcR_",
        "colab_type": "code",
        "colab": {}
      },
      "source": [
        "import tensorflow as tf\n",
        "import keras\n",
        "from keras.models import Sequential\n",
        "from keras.layers import Conv2D,MaxPooling2D,Flatten,Dense\n",
        "from keras.datasets import mnist"
      ],
      "execution_count": 0,
      "outputs": []
    },
    {
      "cell_type": "code",
      "metadata": {
        "id": "5cLJw0OQN-3f",
        "colab_type": "code",
        "colab": {}
      },
      "source": [
        "#using callbacks to stop training at reaching 99.8%"
      ],
      "execution_count": 0,
      "outputs": []
    },
    {
      "cell_type": "code",
      "metadata": {
        "id": "olupAJWROSJL",
        "colab_type": "code",
        "colab": {}
      },
      "source": [
        "class myCallback(tf.keras.callbacks.Callback):\n",
        "  def on_epoch_end(self,epoch,logs={}):\n",
        "    if logs.get('acc')>0.998:\n",
        "      print('stop training')\n",
        "      self.model.stop_training=True"
      ],
      "execution_count": 0,
      "outputs": []
    },
    {
      "cell_type": "code",
      "metadata": {
        "id": "2n-vOzF-PEkH",
        "colab_type": "code",
        "colab": {}
      },
      "source": [
        "#dataset"
      ],
      "execution_count": 0,
      "outputs": []
    },
    {
      "cell_type": "code",
      "metadata": {
        "id": "ixpIpLDdPJ0O",
        "colab_type": "code",
        "colab": {
          "base_uri": "https://localhost:8080/",
          "height": 51
        },
        "outputId": "9660e7af-d844-4031-9f6c-4f0faae616f7"
      },
      "source": [
        "dataset=mnist.load_data()"
      ],
      "execution_count": 7,
      "outputs": [
        {
          "output_type": "stream",
          "text": [
            "Downloading data from https://s3.amazonaws.com/img-datasets/mnist.npz\n",
            "11493376/11490434 [==============================] - 1s 0us/step\n"
          ],
          "name": "stdout"
        }
      ]
    },
    {
      "cell_type": "code",
      "metadata": {
        "id": "OybYPK6WPN-2",
        "colab_type": "code",
        "colab": {}
      },
      "source": [
        "(x_train,y_train),(x_test,y_test)=dataset"
      ],
      "execution_count": 0,
      "outputs": []
    },
    {
      "cell_type": "code",
      "metadata": {
        "id": "W3jl8nr8PWPt",
        "colab_type": "code",
        "colab": {
          "base_uri": "https://localhost:8080/",
          "height": 85
        },
        "outputId": "7801d997-3559-4bcb-dc3c-51a5fd603699"
      },
      "source": [
        "print('x_train_shape :',x_train.shape)\n",
        "print('x_test_shape :',x_test.shape)\n",
        "print('y_train_shape :',y_train.shape)\n",
        "print('y_test_shape :',y_test.shape)\n"
      ],
      "execution_count": 9,
      "outputs": [
        {
          "output_type": "stream",
          "text": [
            "x_train_shape : (60000, 28, 28)\n",
            "x_test_shape : (10000, 28, 28)\n",
            "y_train_shape : (60000,)\n",
            "y_test_shape : (10000,)\n"
          ],
          "name": "stdout"
        }
      ]
    },
    {
      "cell_type": "code",
      "metadata": {
        "id": "6_LizEE1PyE_",
        "colab_type": "code",
        "colab": {}
      },
      "source": [
        "#we need to reshape to (m,n_H,n_W,n_C) for CNN"
      ],
      "execution_count": 0,
      "outputs": []
    },
    {
      "cell_type": "code",
      "metadata": {
        "id": "takv94x3P8y1",
        "colab_type": "code",
        "colab": {}
      },
      "source": [
        "x_train=x_train.reshape(60000,28,28,1)\n",
        "x_test=x_test.reshape(10000,28,28,1)"
      ],
      "execution_count": 0,
      "outputs": []
    },
    {
      "cell_type": "code",
      "metadata": {
        "id": "l3LjRo-KQV7H",
        "colab_type": "code",
        "colab": {}
      },
      "source": [
        "#normalize"
      ],
      "execution_count": 0,
      "outputs": []
    },
    {
      "cell_type": "code",
      "metadata": {
        "id": "-n9iTyCpQZJH",
        "colab_type": "code",
        "colab": {}
      },
      "source": [
        "x_train=x_train/255.0\n",
        "x_test=x_test/255.0"
      ],
      "execution_count": 0,
      "outputs": []
    },
    {
      "cell_type": "code",
      "metadata": {
        "id": "5DJPXUTPQhnT",
        "colab_type": "code",
        "colab": {}
      },
      "source": [
        "#then model"
      ],
      "execution_count": 0,
      "outputs": []
    },
    {
      "cell_type": "code",
      "metadata": {
        "id": "Wajzb5e4QthF",
        "colab_type": "code",
        "colab": {
          "base_uri": "https://localhost:8080/",
          "height": 173
        },
        "outputId": "ec73b081-1b23-46d0-a6f2-c359fd0a0abb"
      },
      "source": [
        "callbacks=myCallback()\n",
        "model=Sequential([Conv2D(64,(3,3),activation='relu',input_shape=(28,28,1)),\n",
        "                  MaxPooling2D((2,2)),Flatten(),Dense(128,activation='relu'),\n",
        "                  Dense(10,activation='softmax')])"
      ],
      "execution_count": 15,
      "outputs": [
        {
          "output_type": "stream",
          "text": [
            "WARNING:tensorflow:From /usr/local/lib/python3.6/dist-packages/keras/backend/tensorflow_backend.py:66: The name tf.get_default_graph is deprecated. Please use tf.compat.v1.get_default_graph instead.\n",
            "\n",
            "WARNING:tensorflow:From /usr/local/lib/python3.6/dist-packages/keras/backend/tensorflow_backend.py:541: The name tf.placeholder is deprecated. Please use tf.compat.v1.placeholder instead.\n",
            "\n",
            "WARNING:tensorflow:From /usr/local/lib/python3.6/dist-packages/keras/backend/tensorflow_backend.py:4432: The name tf.random_uniform is deprecated. Please use tf.random.uniform instead.\n",
            "\n",
            "WARNING:tensorflow:From /usr/local/lib/python3.6/dist-packages/keras/backend/tensorflow_backend.py:4267: The name tf.nn.max_pool is deprecated. Please use tf.nn.max_pool2d instead.\n",
            "\n"
          ],
          "name": "stdout"
        }
      ]
    },
    {
      "cell_type": "code",
      "metadata": {
        "id": "iCW7W-whRu4L",
        "colab_type": "code",
        "colab": {
          "base_uri": "https://localhost:8080/",
          "height": 105
        },
        "outputId": "18719ac9-8d30-4e46-8603-a46837411d63"
      },
      "source": [
        "model.compile(optimizer='Adam',loss='sparse_categorical_crossentropy',metrics=['accuracy'])"
      ],
      "execution_count": 16,
      "outputs": [
        {
          "output_type": "stream",
          "text": [
            "WARNING:tensorflow:From /usr/local/lib/python3.6/dist-packages/keras/optimizers.py:793: The name tf.train.Optimizer is deprecated. Please use tf.compat.v1.train.Optimizer instead.\n",
            "\n",
            "WARNING:tensorflow:From /usr/local/lib/python3.6/dist-packages/keras/backend/tensorflow_backend.py:3622: The name tf.log is deprecated. Please use tf.math.log instead.\n",
            "\n"
          ],
          "name": "stdout"
        }
      ]
    },
    {
      "cell_type": "code",
      "metadata": {
        "id": "heh_FJ1pSI_g",
        "colab_type": "code",
        "colab": {
          "base_uri": "https://localhost:8080/",
          "height": 598
        },
        "outputId": "2a1941b1-1c0b-4394-9e66-0b949332492f"
      },
      "source": [
        "model.fit(x_train,y_train,epochs=20,callbacks=[callbacks])"
      ],
      "execution_count": 17,
      "outputs": [
        {
          "output_type": "stream",
          "text": [
            "WARNING:tensorflow:From /usr/local/lib/python3.6/dist-packages/tensorflow_core/python/ops/math_grad.py:1424: where (from tensorflow.python.ops.array_ops) is deprecated and will be removed in a future version.\n",
            "Instructions for updating:\n",
            "Use tf.where in 2.0, which has the same broadcast rule as np.where\n",
            "WARNING:tensorflow:From /usr/local/lib/python3.6/dist-packages/keras/backend/tensorflow_backend.py:3005: The name tf.Session is deprecated. Please use tf.compat.v1.Session instead.\n",
            "\n",
            "Epoch 1/20\n",
            "WARNING:tensorflow:From /usr/local/lib/python3.6/dist-packages/keras/backend/tensorflow_backend.py:190: The name tf.get_default_session is deprecated. Please use tf.compat.v1.get_default_session instead.\n",
            "\n",
            "WARNING:tensorflow:From /usr/local/lib/python3.6/dist-packages/keras/backend/tensorflow_backend.py:207: The name tf.global_variables is deprecated. Please use tf.compat.v1.global_variables instead.\n",
            "\n",
            "WARNING:tensorflow:From /usr/local/lib/python3.6/dist-packages/keras/backend/tensorflow_backend.py:216: The name tf.is_variable_initialized is deprecated. Please use tf.compat.v1.is_variable_initialized instead.\n",
            "\n",
            "WARNING:tensorflow:From /usr/local/lib/python3.6/dist-packages/keras/backend/tensorflow_backend.py:223: The name tf.variables_initializer is deprecated. Please use tf.compat.v1.variables_initializer instead.\n",
            "\n",
            "60000/60000 [==============================] - 73s 1ms/step - loss: 0.1372 - acc: 0.9590\n",
            "Epoch 2/20\n",
            "60000/60000 [==============================] - 71s 1ms/step - loss: 0.0458 - acc: 0.9866\n",
            "Epoch 3/20\n",
            "60000/60000 [==============================] - 69s 1ms/step - loss: 0.0291 - acc: 0.9909\n",
            "Epoch 4/20\n",
            "60000/60000 [==============================] - 70s 1ms/step - loss: 0.0187 - acc: 0.9942\n",
            "Epoch 5/20\n",
            "60000/60000 [==============================] - 70s 1ms/step - loss: 0.0133 - acc: 0.9956\n",
            "Epoch 6/20\n",
            "60000/60000 [==============================] - 70s 1ms/step - loss: 0.0077 - acc: 0.9974\n",
            "Epoch 7/20\n",
            "60000/60000 [==============================] - 70s 1ms/step - loss: 0.0089 - acc: 0.9969\n",
            "Epoch 8/20\n",
            "60000/60000 [==============================] - 70s 1ms/step - loss: 0.0058 - acc: 0.9980\n",
            "Epoch 9/20\n",
            "60000/60000 [==============================] - 70s 1ms/step - loss: 0.0049 - acc: 0.9983\n",
            "stop training\n"
          ],
          "name": "stdout"
        },
        {
          "output_type": "execute_result",
          "data": {
            "text/plain": [
              "<keras.callbacks.History at 0x7f8dfd46bcf8>"
            ]
          },
          "metadata": {
            "tags": []
          },
          "execution_count": 17
        }
      ]
    },
    {
      "cell_type": "code",
      "metadata": {
        "id": "I1gIqirhSS_2",
        "colab_type": "code",
        "colab": {
          "base_uri": "https://localhost:8080/",
          "height": 68
        },
        "outputId": "8a4aa104-06f2-4f64-9811-6e15cf9b3899"
      },
      "source": [
        "loss,accuracy=model.evaluate(x_test,y_test)\n",
        "print('loss:',loss)\n",
        "print('accuracy:',accuracy)"
      ],
      "execution_count": 18,
      "outputs": [
        {
          "output_type": "stream",
          "text": [
            "10000/10000 [==============================] - 3s 256us/step\n",
            "loss: 0.06258222904275372\n",
            "accuracy: 0.9868\n"
          ],
          "name": "stdout"
        }
      ]
    },
    {
      "cell_type": "code",
      "metadata": {
        "id": "8gvVK8YuU8eV",
        "colab_type": "code",
        "colab": {
          "base_uri": "https://localhost:8080/",
          "height": 238
        },
        "outputId": "70a84a2f-15db-4a35-e9e4-7d01d2546b59"
      },
      "source": [
        "model.predict(x_test)"
      ],
      "execution_count": 19,
      "outputs": [
        {
          "output_type": "execute_result",
          "data": {
            "text/plain": [
              "array([[3.11519448e-15, 3.79764715e-14, 3.67011152e-12, ...,\n",
              "        1.00000000e+00, 2.87830093e-10, 4.88553382e-12],\n",
              "       [5.03050834e-14, 2.11161756e-14, 1.00000000e+00, ...,\n",
              "        5.13763676e-22, 1.22754430e-18, 2.67122031e-17],\n",
              "       [4.21016333e-10, 9.99998808e-01, 2.84385293e-10, ...,\n",
              "        4.02484579e-09, 1.02478005e-07, 3.73501143e-13],\n",
              "       ...,\n",
              "       [3.20459584e-21, 1.57035342e-17, 1.06132682e-17, ...,\n",
              "        2.62726169e-12, 1.32965045e-11, 4.28971095e-14],\n",
              "       [7.81620428e-13, 1.70657765e-20, 2.04688852e-21, ...,\n",
              "        5.76938956e-17, 1.66985942e-07, 2.13014526e-17],\n",
              "       [3.68634033e-15, 4.27203714e-16, 3.62206881e-21, ...,\n",
              "        3.23820176e-23, 1.88149163e-15, 4.06449488e-17]], dtype=float32)"
            ]
          },
          "metadata": {
            "tags": []
          },
          "execution_count": 19
        }
      ]
    },
    {
      "cell_type": "code",
      "metadata": {
        "id": "gWQenVFNVdKO",
        "colab_type": "code",
        "colab": {}
      },
      "source": [
        ""
      ],
      "execution_count": 0,
      "outputs": []
    }
  ]
}